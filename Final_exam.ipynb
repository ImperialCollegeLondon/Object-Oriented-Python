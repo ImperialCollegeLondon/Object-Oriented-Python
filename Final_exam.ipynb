{
 "cells": [
  {
   "cell_type": "markdown",
   "metadata": {},
   "source": [
    "# Final Exam\n",
    "\n",
    "In this final exam you will define a series of classes in the code cell below to represent types of food. The code cell following it contains a series of tests that your code must pass. These tests will also help to inform what the classes should look like.\n",
    "\n",
    "You should define a class `Ingredient` that has the attributes:\n",
    "* `amount`: the amount of the ingredient. May represent the number of items, mass or volume depending on the ingredient. Should be supplied to the constructor. If the value is zero or less, raise a `ValueError`.\n",
    "* `calories`: Describes the number of calories in the ingredient. Will de defined in subclasses of `Ingredient`.\n",
    "* `preparation_time`: Describes the time it takes to prepare the ingredient in minutes. Will be defined in subclasses of `Ingredient`.\n",
    "\n",
    "You should define a number of classes that inherit from `Ingredient`. Some of these will require additional data to be supplied in the constructor to describe how they are prepared. The subclasses are:\n",
    "\n",
    "| Class | Additional attributes | Calories | Preparation time |\n",
    "|-------|-----------------------|----------|------------------|\n",
    "| `Apple` | `chopped`: `bool` | 52 x amount | 3 x amount if `chopped` is `True`, 0 otherwise |\n",
    "| `Tomato` | `chopped`: `bool` | 22 x amount | 2 x amount if `chopped` is `True`, 0 otherwise |\n",
    "| `Pasta` | N/A | 1.31 x amount | 10 |\n",
    "| `Chicken` | `boneless`: `bool` | 2.39 x amount | 20 if `boneless` is `True`, 30 otherwise |\n",
    "| `Beef` | `boneless`: `bool` | 2.5 x amount | 30 if `boneless` is `True`, 40 otherwise |\n",
    "| `Oil` | N/A | 8.84 | 0 |\n",
    "\n",
    "You should also define a class `Recipe` that has the attributes:\n",
    "* `name`: a string that describes the recipe. Should be supplied to the constructor.\n",
    "* `ingredients`: a list of `Ingredient` objects that are used in the recipe. Should be supplied to the constructor. If the list is empty, raise a `ValueError`.\n",
    "* `calories`: the total number of calories in all ingredients in the recipe.\n",
    "* `preparation_time`: the total time it takes to prepare all ingredients in the recipe.\n",
    "\n",
    "You may also define any other attributes or classes to help you complete the task so long as the tests pass. There is more than one reasonable way to complete this task so use your own judgement. "
   ]
  },
  {
   "cell_type": "code",
   "execution_count": 1,
   "metadata": {},
   "outputs": [],
   "source": [
    "# Write your solution here\n",
    "\n",
    "\n"
   ]
  },
  {
   "cell_type": "code",
   "execution_count": 2,
   "metadata": {},
   "outputs": [],
   "source": [
    "# Run this code to check if the tests pass. An exception will be raised if they don'try\n",
    "# You can examine this code to check your classes have the right attributes and expect the right arguments\n",
    "# The assert statement checks the value after it is True, and raises an error if not\n",
    "# The error will contain the string which follows the assert statement\n",
    "# If no error is raised, the tests passed\n",
    "# If you see an error, you may want to replicate the calls elsewhere so you can examine what's going on in detail\n",
    "\n",
    "# Create an unchopped apple\n",
    "apple = Apple(1, False)\n",
    "assert apple.amount == 1, 'Should have been 1, got ' + str(apple.amount)\n",
    "assert apple.calories == 52, 'Should have been 52, got ' + str(apple.calories)\n",
    "assert apple.preparation_time == 0, 'Should have been 0, got ' + str(apple.preparation_time)\n",
    "\n",
    "# Create two chopped tomatoes\n",
    "tomato = Tomato(3, True)\n",
    "assert tomato.amount == 3, 'Should have been 3, got ' + str(tomato.amount)\n",
    "assert tomato.calories == 66, 'Should have been 66, got ' + str(tomato.calories)\n",
    "assert tomato.preparation_time == 6, 'Should have been 6, got ' + str(tomato.preparation_time)\n",
    "\n",
    "# 100g of pasta\n",
    "pasta = Pasta(100)\n",
    "assert pasta.amount == 100, 'Should have been 100, got ' + str(pasta.amount)\n",
    "assert pasta.calories == 131, 'Should have been 131, got ' + str(pasta.calories)\n",
    "assert pasta.preparation_time == 10, 'Should have been 10, got ' + str(pasta.preparation_time)\n",
    "\n",
    "# Create a chicken-tomato-pasta recipe\n",
    "# When creating a recipe, we pass a list of ingredients to the constructor as an argument\n",
    "recipe = Recipe([Chicken(500, True), Tomato(2, True), Pasta(200), Oil(10)])\n",
    "assert recipe.calories == 1589.4, 'Should have been 1589.4, got ' + str(recipe.calories)\n",
    "assert recipe.preparation_time == 34, 'Should have been 34, got ' + str(recipe.preparation_time)\n",
    "\n",
    "# Create a beef-rib recipe\n",
    "recipe = Recipe([Beef(1000, False), Oil(10), Tomato(1, True)])\n",
    "assert recipe.calories == 2610.4, 'Should have been 2610.4, got ' + str(recipe.calories)\n",
    "recipe.preparation_time == 40, 'Should have been 40, got ' + str(recipe.preparation_time)\n",
    "\n",
    "# Check creating an ingredient with a negative amount raises an error\n",
    "try:\n",
    "    apple = Apple(-1, False)\n",
    "    assert False, 'Should have raised an error'\n",
    "except ValueError:\n",
    "    pass\n",
    "\n",
    "# Check creating a recipe with no ingredients raises an error\n",
    "try:\n",
    "    recipe = Recipe([])\n",
    "    assert False, 'Should have raised an error'\n",
    "except ValueError:\n",
    "    pass"
   ]
  }
 ],
 "metadata": {
  "kernelspec": {
   "display_name": "Python 3",
   "language": "python",
   "name": "python3"
  },
  "language_info": {
   "codemirror_mode": {
    "name": "ipython",
    "version": 3
   },
   "file_extension": ".py",
   "mimetype": "text/x-python",
   "name": "python",
   "nbconvert_exporter": "python",
   "pygments_lexer": "ipython3",
   "version": "3.12.7"
  }
 },
 "nbformat": 4,
 "nbformat_minor": 2
}
